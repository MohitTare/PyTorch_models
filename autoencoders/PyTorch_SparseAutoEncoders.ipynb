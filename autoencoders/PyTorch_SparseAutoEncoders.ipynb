{
 "cells": [
  {
   "cell_type": "code",
   "execution_count": 2,
   "metadata": {},
   "outputs": [],
   "source": [
    "import torch\n",
    "import torch.nn as nn\n",
    "import torchvision\n",
    "import numpy as np\n",
    "import matplotlib as mpl\n",
    "import matplotlib.pyplot as plt\n",
    "import torch.nn.functional as F\n",
    "import torch.optim as optim\n",
    "from torchvision import datasets, transforms\n",
    "%matplotlib inline"
   ]
  },
  {
   "cell_type": "code",
   "execution_count": 18,
   "metadata": {},
   "outputs": [],
   "source": [
    "# global constants\n",
    "BATCH_SIZE = 32\n",
    "BETA = 3\n",
    "RHO = 0.01\n",
    "N_INP = 784\n",
    "N_HIDDEN = 300\n",
    "N_EPOCHS = 50\n",
    "use_sparse = True"
   ]
  },
  {
   "cell_type": "code",
   "execution_count": 4,
   "metadata": {},
   "outputs": [],
   "source": [
    "class SparseAutoencoder(nn.Module):\n",
    "    def __init__(self, n_inp, n_hidden):\n",
    "        super(SparseAutoencoder, self).__init__()\n",
    "        self.encoder = nn.Linear(n_inp, n_hidden)\n",
    "        self.decoder = nn.Linear(n_hidden, n_inp)\n",
    "\n",
    "    def forward(self, x):\n",
    "        encoded = F.sigmoid(self.encoder(x))\n",
    "        decoded = F.sigmoid(self.decoder(encoded))\n",
    "        return encoded, decoded"
   ]
  },
  {
   "cell_type": "code",
   "execution_count": 5,
   "metadata": {},
   "outputs": [],
   "source": [
    "rho = torch.FloatTensor([RHO for _ in range(N_HIDDEN)]).unsqueeze(0)"
   ]
  },
  {
   "cell_type": "code",
   "execution_count": 22,
   "metadata": {},
   "outputs": [],
   "source": [
    "trans = transforms.Compose([transforms.ToTensor()])\n",
    "train_set = datasets.MNIST(root='data/', train=True, transform=trans, download=True)\n",
    "test_set = datasets.MNIST(root='data/', train=False, transform=trans, download=True)\n",
    "\n",
    "train_loader = torch.utils.data.DataLoader(\n",
    "        dataset=train_set,\n",
    "        batch_size=BATCH_SIZE,\n",
    "        shuffle=True)\n",
    "\n",
    "test_loader = torch.utils.data.DataLoader(\n",
    "        dataset=test_set,\n",
    "        batch_size=BATCH_SIZE,\n",
    "        shuffle=False)"
   ]
  },
  {
   "cell_type": "code",
   "execution_count": 12,
   "metadata": {},
   "outputs": [],
   "source": [
    "auto_encoder = SparseAutoencoder(N_INP, N_HIDDEN)\n",
    "optimizer = optim.Adam(auto_encoder.parameters(), lr=1e-3)"
   ]
  },
  {
   "cell_type": "code",
   "execution_count": 25,
   "metadata": {},
   "outputs": [],
   "source": [
    "criterion =  nn.MSELoss()"
   ]
  },
  {
   "cell_type": "code",
   "execution_count": 13,
   "metadata": {},
   "outputs": [],
   "source": [
    "def kl_divergence(p, q):\n",
    "    '''\n",
    "    args:\n",
    "        2 tensors `p` and `q`\n",
    "    returns:\n",
    "        kl divergence between the softmax of `p` and `q`\n",
    "    '''\n",
    "    p = F.softmax(p)\n",
    "    q = F.softmax(q)\n",
    "\n",
    "    s1 = torch.sum(p * torch.log(p / q))\n",
    "    s2 = torch.sum((1 - p) * torch.log((1 - p) / (1 - q)))\n",
    "    return s1 + s2"
   ]
  },
  {
   "cell_type": "code",
   "execution_count": 14,
   "metadata": {},
   "outputs": [
    {
     "data": {
      "text/plain": [
       "<Figure size 1440x288 with 0 Axes>"
      ]
     },
     "execution_count": 14,
     "metadata": {},
     "output_type": "execute_result"
    },
    {
     "data": {
      "text/plain": [
       "<Figure size 1440x288 with 0 Axes>"
      ]
     },
     "metadata": {},
     "output_type": "display_data"
    }
   ],
   "source": [
    "N_COLS = 8\n",
    "N_ROWS = 4\n",
    "view_data = [test_set[i][0] for i in range(N_ROWS * N_COLS)]\n",
    "plt.figure(figsize=(20, 4))"
   ]
  },
  {
   "cell_type": "code",
   "execution_count": 26,
   "metadata": {},
   "outputs": [
    {
     "name": "stderr",
     "output_type": "stream",
     "text": [
      "C:\\Users\\mohit_tare\\AppData\\Local\\Continuum\\anaconda3\\lib\\site-packages\\ipykernel_launcher.py:8: UserWarning: Implicit dimension choice for softmax has been deprecated. Change the call to include dim=X as an argument.\n",
      "  \n",
      "C:\\Users\\mohit_tare\\AppData\\Local\\Continuum\\anaconda3\\lib\\site-packages\\ipykernel_launcher.py:9: UserWarning: Implicit dimension choice for softmax has been deprecated. Change the call to include dim=X as an argument.\n",
      "  if __name__ == '__main__':\n"
     ]
    },
    {
     "name": "stdout",
     "output_type": "stream",
     "text": [
      "Epoch: [  1], Loss: 0.0961\n",
      "Epoch: [  2], Loss: 0.0676\n",
      "Epoch: [  3], Loss: 0.0564\n",
      "Epoch: [  4], Loss: 0.0492\n",
      "Epoch: [  5], Loss: 0.0509\n",
      "Epoch: [  6], Loss: 0.0529\n",
      "Epoch: [  7], Loss: 0.0556\n",
      "Epoch: [  8], Loss: 0.0475\n",
      "Epoch: [  9], Loss: 0.0371\n",
      "Epoch: [ 10], Loss: 0.0426\n",
      "Epoch: [ 11], Loss: 0.0409\n",
      "Epoch: [ 12], Loss: 0.0328\n",
      "Epoch: [ 13], Loss: 0.0291\n",
      "Epoch: [ 14], Loss: 0.0332\n",
      "Epoch: [ 15], Loss: 0.0289\n",
      "Epoch: [ 16], Loss: 0.0280\n",
      "Epoch: [ 17], Loss: 0.0253\n",
      "Epoch: [ 18], Loss: 0.0311\n",
      "Epoch: [ 19], Loss: 0.0286\n",
      "Epoch: [ 20], Loss: 0.0249\n",
      "Epoch: [ 21], Loss: 0.0228\n",
      "Epoch: [ 22], Loss: 0.0237\n",
      "Epoch: [ 23], Loss: 0.0186\n",
      "Epoch: [ 24], Loss: 0.0219\n",
      "Epoch: [ 25], Loss: 0.0194\n",
      "Epoch: [ 26], Loss: 0.0202\n",
      "Epoch: [ 27], Loss: 0.0160\n",
      "Epoch: [ 28], Loss: 0.0152\n",
      "Epoch: [ 29], Loss: 0.0167\n",
      "Epoch: [ 30], Loss: 0.0156\n",
      "Epoch: [ 31], Loss: 0.0183\n",
      "Epoch: [ 32], Loss: 0.0179\n",
      "Epoch: [ 33], Loss: 0.0159\n",
      "Epoch: [ 34], Loss: 0.0149\n",
      "Epoch: [ 35], Loss: 0.0170\n",
      "Epoch: [ 36], Loss: 0.0138\n",
      "Epoch: [ 37], Loss: 0.0132\n",
      "Epoch: [ 38], Loss: 0.0138\n",
      "Epoch: [ 39], Loss: 0.0121\n",
      "Epoch: [ 40], Loss: 0.0133\n",
      "Epoch: [ 41], Loss: 0.0129\n",
      "Epoch: [ 42], Loss: 0.0121\n",
      "Epoch: [ 43], Loss: 0.0128\n",
      "Epoch: [ 44], Loss: 0.0116\n",
      "Epoch: [ 45], Loss: 0.0121\n",
      "Epoch: [ 46], Loss: 0.0153\n",
      "Epoch: [ 47], Loss: 0.0113\n",
      "Epoch: [ 48], Loss: 0.0130\n",
      "Epoch: [ 49], Loss: 0.0091\n",
      "Epoch: [ 50], Loss: 0.0103\n"
     ]
    }
   ],
   "source": [
    "for epoch in range(N_EPOCHS):\n",
    "    for b_index, (x, _) in enumerate(train_loader):\n",
    "        x = x.view(x.size()[0], -1)\n",
    "        x = torch.autograd.Variable(x)\n",
    "        encoded, decoded = auto_encoder(x)\n",
    "        loss = criterion(decoded,x)\n",
    "        if use_sparse:\n",
    "            rho_hat = torch.sum(encoded, dim=0, keepdim=True)\n",
    "            sparsity_penalty = BETA * kl_divergence(rho, rho_hat)\n",
    "            loss = loss + sparsity_penalty\n",
    "        else:\n",
    "            loss = loss\n",
    "        optimizer.zero_grad()\n",
    "        loss.backward()\n",
    "        optimizer.step()\n",
    "\n",
    "    print(\"Epoch: [%3d], Loss: %.4f\" %(epoch + 1, loss.data))"
   ]
  },
  {
   "cell_type": "code",
   "execution_count": 27,
   "metadata": {},
   "outputs": [
    {
     "data": {
      "image/png": "[encoded data removed]",
      "text/plain": [
       "<Figure size 432x288 with 64 Axes>"
      ]
     },
     "metadata": {},
     "output_type": "display_data"
    }
   ],
   "source": [
    "for i in range(N_ROWS * N_COLS):\n",
    "    # original image\n",
    "    r = i // N_COLS\n",
    "    c = i % N_COLS + 1\n",
    "    ax = plt.subplot(2 * N_ROWS, N_COLS, 2 * r * N_COLS + c)\n",
    "    plt.imshow(view_data[i].squeeze())\n",
    "    plt.gray()\n",
    "    ax.get_xaxis().set_visible(False)\n",
    "    ax.get_yaxis().set_visible(False)\n",
    "\n",
    "    # reconstructed image\n",
    "    ax = plt.subplot(2 * N_ROWS, N_COLS, 2 * r * N_COLS + c + N_COLS)\n",
    "    x = torch.autograd.Variable(view_data[i])\n",
    "    e, y = auto_encoder(x.view(1, -1))\n",
    "    plt.imshow(y.detach().squeeze().numpy().reshape(28, 28))\n",
    "    plt.gray()\n",
    "    ax.get_xaxis().set_visible(False)\n",
    "    ax.get_yaxis().set_visible(False)\n",
    "plt.show()"
   ]
  },
  {
   "cell_type": "code",
   "execution_count": null,
   "metadata": {},
   "outputs": [],
   "source": []
  }
 ],
 "metadata": {
  "kernelspec": {
   "display_name": "Python 3",
   "language": "python",
   "name": "python3"
  },
  "language_info": {
   "codemirror_mode": {
    "name": "ipython",
    "version": 3
   },
   "file_extension": ".py",
   "mimetype": "text/x-python",
   "name": "python",
   "nbconvert_exporter": "python",
   "pygments_lexer": "ipython3",
   "version": "3.6.5"
  }
 },
 "nbformat": 4,
 "nbformat_minor": 2
}
