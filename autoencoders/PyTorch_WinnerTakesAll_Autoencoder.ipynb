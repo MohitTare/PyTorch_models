{
 "cells": [
  {
   "cell_type": "code",
   "execution_count": 1,
   "metadata": {},
   "outputs": [],
   "source": [
    "import torch\n",
    "import torch.nn as nn\n",
    "import torchvision\n",
    "import numpy as np\n",
    "import torchvision.datasets as dsets\n",
    "import torchvision.transforms as transforms\n",
    "import matplotlib as mpl\n",
    "import matplotlib.pyplot as plt\n",
    "%matplotlib inline"
   ]
  },
  {
   "cell_type": "code",
   "execution_count": 6,
   "metadata": {},
   "outputs": [],
   "source": [
    "num_epochs = 50\n",
    "batch_size = 100\n",
    "learning_rate = 1e-3\n",
    "reg_lmbd = 1e-4\n",
    "ksparse = 50"
   ]
  },
  {
   "cell_type": "code",
   "execution_count": 3,
   "metadata": {},
   "outputs": [],
   "source": [
    "train_dataset = dsets.MNIST(root='data/', \n",
    "                            train=True, \n",
    "                            transform=transforms.ToTensor(),  \n",
    "                            download=True)\n",
    "test_dataset = dsets.MNIST(root='data/', \n",
    "                           train=False, \n",
    "                           transform=transforms.ToTensor())"
   ]
  },
  {
   "cell_type": "code",
   "execution_count": 4,
   "metadata": {},
   "outputs": [],
   "source": [
    "train_loader = torch.utils.data.DataLoader(dataset=train_dataset, \n",
    "                                           batch_size=batch_size, \n",
    "                                           shuffle=True)"
   ]
  },
  {
   "cell_type": "code",
   "execution_count": 5,
   "metadata": {},
   "outputs": [],
   "source": [
    "test_loader = torch.utils.data.DataLoader(dataset=test_dataset, \n",
    "                                          batch_size=batch_size, \n",
    "                                          shuffle=False)"
   ]
  },
  {
   "cell_type": "code",
   "execution_count": 75,
   "metadata": {},
   "outputs": [],
   "source": [
    "class WinnerTakesAllAutoencoder(nn.Module):\n",
    "    def __init__(self):\n",
    "        super(WinnerTakesAllAutoencoder,self).__init__()\n",
    "        self.encoder = nn.Sequential(\n",
    "            nn.Linear(784,400,bias=False),\n",
    "            nn.ReLU(True))\n",
    "        self.decoder = nn.Sequential(\n",
    "            nn.Linear(400,784),\n",
    "            nn.Sigmoid()\n",
    "        )\n",
    "        self.ksparse = ksparse\n",
    "    \n",
    "    def selectTopK(self,x):\n",
    "        if(self.training):\n",
    "            x = x.clone()\n",
    "            idx = torch.topk(x, self.ksparse, dim=1)[1]\n",
    "            x.scatter_(1, idx, 0)\n",
    "            return x\n",
    "        else:\n",
    "            return x\n",
    "        \n",
    "    def forward(self,x):\n",
    "        x = self.encoder(x)\n",
    "        x = self.selectTopK(x)\n",
    "        #print(x)\n",
    "        out = self.decoder(x)\n",
    "        return x,out"
   ]
  },
  {
   "cell_type": "code",
   "execution_count": 76,
   "metadata": {},
   "outputs": [],
   "source": [
    "model = WinnerTakesAllAutoencoder()"
   ]
  },
  {
   "cell_type": "code",
   "execution_count": 77,
   "metadata": {},
   "outputs": [
    {
     "data": {
      "text/plain": [
       "WinnerTakesAllAutoencoder(\n",
       "  (encoder): Sequential(\n",
       "    (0): Linear(in_features=784, out_features=400, bias=False)\n",
       "    (1): ReLU(inplace)\n",
       "  )\n",
       "  (decoder): Sequential(\n",
       "    (0): Linear(in_features=400, out_features=784, bias=True)\n",
       "    (1): Sigmoid()\n",
       "  )\n",
       ")"
      ]
     },
     "execution_count": 77,
     "metadata": {},
     "output_type": "execute_result"
    }
   ],
   "source": [
    "model"
   ]
  },
  {
   "cell_type": "code",
   "execution_count": 78,
   "metadata": {},
   "outputs": [],
   "source": [
    "optimizer = torch.optim.Adam(model.parameters(), lr=learning_rate, weight_decay=1e-5)"
   ]
  },
  {
   "cell_type": "code",
   "execution_count": 79,
   "metadata": {},
   "outputs": [],
   "source": [
    "criterion = torch.nn.MSELoss()"
   ]
  },
  {
   "cell_type": "code",
   "execution_count": 80,
   "metadata": {
    "scrolled": false
   },
   "outputs": [
    {
     "name": "stderr",
     "output_type": "stream",
     "text": [
      "C:\\Users\\mohit_tare\\AppData\\Local\\Continuum\\anaconda3\\lib\\site-packages\\ipykernel_launcher.py:13: UserWarning: invalid index of a 0-dim tensor. This will be an error in PyTorch 0.5. Use tensor.item() to convert a 0-dim tensor to a Python number\n",
      "  del sys.path[0]\n"
     ]
    },
    {
     "name": "stdout",
     "output_type": "stream",
     "text": [
      "Epoch [1/50], Step [100/600], Loss: 0.0455\n",
      "Epoch [1/50], Step [200/600], Loss: 0.0290\n",
      "Epoch [1/50], Step [300/600], Loss: 0.0229\n",
      "Epoch [1/50], Step [400/600], Loss: 0.0177\n",
      "Epoch [1/50], Step [500/600], Loss: 0.0153\n",
      "Epoch [1/50], Step [600/600], Loss: 0.0140\n",
      "Epoch [2/50], Step [100/600], Loss: 0.0121\n",
      "Epoch [2/50], Step [200/600], Loss: 0.0140\n",
      "Epoch [2/50], Step [300/600], Loss: 0.0168\n",
      "Epoch [2/50], Step [400/600], Loss: 0.0121\n",
      "Epoch [2/50], Step [500/600], Loss: 0.0116\n",
      "Epoch [2/50], Step [600/600], Loss: 0.0127\n",
      "Epoch [3/50], Step [100/600], Loss: 0.0166\n",
      "Epoch [3/50], Step [200/600], Loss: 0.0147\n",
      "Epoch [3/50], Step [300/600], Loss: 0.0143\n",
      "Epoch [3/50], Step [400/600], Loss: 0.0138\n",
      "Epoch [3/50], Step [500/600], Loss: 0.0147\n",
      "Epoch [3/50], Step [600/600], Loss: 0.0168\n",
      "Epoch [4/50], Step [100/600], Loss: 0.0138\n",
      "Epoch [4/50], Step [200/600], Loss: 0.0160\n",
      "Epoch [4/50], Step [300/600], Loss: 0.0143\n",
      "Epoch [4/50], Step [400/600], Loss: 0.0171\n",
      "Epoch [4/50], Step [500/600], Loss: 0.0157\n",
      "Epoch [4/50], Step [600/600], Loss: 0.0156\n",
      "Epoch [5/50], Step [100/600], Loss: 0.0146\n",
      "Epoch [5/50], Step [200/600], Loss: 0.0153\n",
      "Epoch [5/50], Step [300/600], Loss: 0.0143\n",
      "Epoch [5/50], Step [400/600], Loss: 0.0145\n",
      "Epoch [5/50], Step [500/600], Loss: 0.0143\n",
      "Epoch [5/50], Step [600/600], Loss: 0.0151\n",
      "Epoch [6/50], Step [100/600], Loss: 0.0160\n",
      "Epoch [6/50], Step [200/600], Loss: 0.0120\n",
      "Epoch [6/50], Step [300/600], Loss: 0.0137\n",
      "Epoch [6/50], Step [400/600], Loss: 0.0147\n",
      "Epoch [6/50], Step [500/600], Loss: 0.0147\n",
      "Epoch [6/50], Step [600/600], Loss: 0.0133\n",
      "Epoch [7/50], Step [100/600], Loss: 0.0147\n",
      "Epoch [7/50], Step [200/600], Loss: 0.0134\n",
      "Epoch [7/50], Step [300/600], Loss: 0.0139\n",
      "Epoch [7/50], Step [400/600], Loss: 0.0134\n",
      "Epoch [7/50], Step [500/600], Loss: 0.0117\n",
      "Epoch [7/50], Step [600/600], Loss: 0.0136\n",
      "Epoch [8/50], Step [100/600], Loss: 0.0131\n",
      "Epoch [8/50], Step [200/600], Loss: 0.0131\n",
      "Epoch [8/50], Step [300/600], Loss: 0.0141\n",
      "Epoch [8/50], Step [400/600], Loss: 0.0134\n",
      "Epoch [8/50], Step [500/600], Loss: 0.0138\n",
      "Epoch [8/50], Step [600/600], Loss: 0.0134\n",
      "Epoch [9/50], Step [100/600], Loss: 0.0134\n",
      "Epoch [9/50], Step [200/600], Loss: 0.0150\n",
      "Epoch [9/50], Step [300/600], Loss: 0.0126\n",
      "Epoch [9/50], Step [400/600], Loss: 0.0128\n",
      "Epoch [9/50], Step [500/600], Loss: 0.0125\n",
      "Epoch [9/50], Step [600/600], Loss: 0.0128\n",
      "Epoch [10/50], Step [100/600], Loss: 0.0133\n",
      "Epoch [10/50], Step [200/600], Loss: 0.0144\n",
      "Epoch [10/50], Step [300/600], Loss: 0.0149\n",
      "Epoch [10/50], Step [400/600], Loss: 0.0141\n",
      "Epoch [10/50], Step [500/600], Loss: 0.0128\n",
      "Epoch [10/50], Step [600/600], Loss: 0.0134\n",
      "Epoch [11/50], Step [100/600], Loss: 0.0147\n",
      "Epoch [11/50], Step [200/600], Loss: 0.0143\n",
      "Epoch [11/50], Step [300/600], Loss: 0.0140\n",
      "Epoch [11/50], Step [400/600], Loss: 0.0127\n",
      "Epoch [11/50], Step [500/600], Loss: 0.0138\n",
      "Epoch [11/50], Step [600/600], Loss: 0.0138\n",
      "Epoch [12/50], Step [100/600], Loss: 0.0144\n",
      "Epoch [12/50], Step [200/600], Loss: 0.0139\n",
      "Epoch [12/50], Step [300/600], Loss: 0.0132\n",
      "Epoch [12/50], Step [400/600], Loss: 0.0142\n",
      "Epoch [12/50], Step [500/600], Loss: 0.0142\n",
      "Epoch [12/50], Step [600/600], Loss: 0.0131\n",
      "Epoch [13/50], Step [100/600], Loss: 0.0142\n",
      "Epoch [13/50], Step [200/600], Loss: 0.0144\n",
      "Epoch [13/50], Step [300/600], Loss: 0.0132\n",
      "Epoch [13/50], Step [400/600], Loss: 0.0142\n",
      "Epoch [13/50], Step [500/600], Loss: 0.0124\n",
      "Epoch [13/50], Step [600/600], Loss: 0.0143\n",
      "Epoch [14/50], Step [100/600], Loss: 0.0139\n",
      "Epoch [14/50], Step [200/600], Loss: 0.0157\n",
      "Epoch [14/50], Step [300/600], Loss: 0.0127\n",
      "Epoch [14/50], Step [400/600], Loss: 0.0155\n",
      "Epoch [14/50], Step [500/600], Loss: 0.0123\n",
      "Epoch [14/50], Step [600/600], Loss: 0.0142\n",
      "Epoch [15/50], Step [100/600], Loss: 0.0151\n",
      "Epoch [15/50], Step [200/600], Loss: 0.0132\n",
      "Epoch [15/50], Step [300/600], Loss: 0.0155\n",
      "Epoch [15/50], Step [400/600], Loss: 0.0135\n",
      "Epoch [15/50], Step [500/600], Loss: 0.0139\n",
      "Epoch [15/50], Step [600/600], Loss: 0.0129\n",
      "Epoch [16/50], Step [100/600], Loss: 0.0137\n",
      "Epoch [16/50], Step [200/600], Loss: 0.0144\n",
      "Epoch [16/50], Step [300/600], Loss: 0.0131\n",
      "Epoch [16/50], Step [400/600], Loss: 0.0136\n",
      "Epoch [16/50], Step [500/600], Loss: 0.0140\n",
      "Epoch [16/50], Step [600/600], Loss: 0.0143\n",
      "Epoch [17/50], Step [100/600], Loss: 0.0133\n",
      "Epoch [17/50], Step [200/600], Loss: 0.0134\n",
      "Epoch [17/50], Step [300/600], Loss: 0.0156\n",
      "Epoch [17/50], Step [400/600], Loss: 0.0137\n",
      "Epoch [17/50], Step [500/600], Loss: 0.0136\n",
      "Epoch [17/50], Step [600/600], Loss: 0.0139\n",
      "Epoch [18/50], Step [100/600], Loss: 0.0149\n",
      "Epoch [18/50], Step [200/600], Loss: 0.0138\n",
      "Epoch [18/50], Step [300/600], Loss: 0.0139\n",
      "Epoch [18/50], Step [400/600], Loss: 0.0137\n",
      "Epoch [18/50], Step [500/600], Loss: 0.0128\n",
      "Epoch [18/50], Step [600/600], Loss: 0.0134\n",
      "Epoch [19/50], Step [100/600], Loss: 0.0143\n",
      "Epoch [19/50], Step [200/600], Loss: 0.0125\n",
      "Epoch [19/50], Step [300/600], Loss: 0.0136\n",
      "Epoch [19/50], Step [400/600], Loss: 0.0147\n",
      "Epoch [19/50], Step [500/600], Loss: 0.0135\n",
      "Epoch [19/50], Step [600/600], Loss: 0.0148\n",
      "Epoch [20/50], Step [100/600], Loss: 0.0144\n",
      "Epoch [20/50], Step [200/600], Loss: 0.0138\n",
      "Epoch [20/50], Step [300/600], Loss: 0.0134\n",
      "Epoch [20/50], Step [400/600], Loss: 0.0129\n",
      "Epoch [20/50], Step [500/600], Loss: 0.0149\n",
      "Epoch [20/50], Step [600/600], Loss: 0.0140\n",
      "Epoch [21/50], Step [100/600], Loss: 0.0133\n",
      "Epoch [21/50], Step [200/600], Loss: 0.0116\n",
      "Epoch [21/50], Step [300/600], Loss: 0.0141\n",
      "Epoch [21/50], Step [400/600], Loss: 0.0135\n",
      "Epoch [21/50], Step [500/600], Loss: 0.0126\n",
      "Epoch [21/50], Step [600/600], Loss: 0.0124\n",
      "Epoch [22/50], Step [100/600], Loss: 0.0120\n",
      "Epoch [22/50], Step [200/600], Loss: 0.0134\n",
      "Epoch [22/50], Step [300/600], Loss: 0.0122\n",
      "Epoch [22/50], Step [400/600], Loss: 0.0130\n",
      "Epoch [22/50], Step [500/600], Loss: 0.0142\n",
      "Epoch [22/50], Step [600/600], Loss: 0.0141\n",
      "Epoch [23/50], Step [100/600], Loss: 0.0139\n",
      "Epoch [23/50], Step [200/600], Loss: 0.0142\n",
      "Epoch [23/50], Step [300/600], Loss: 0.0141\n",
      "Epoch [23/50], Step [400/600], Loss: 0.0129\n",
      "Epoch [23/50], Step [500/600], Loss: 0.0136\n",
      "Epoch [23/50], Step [600/600], Loss: 0.0130\n",
      "Epoch [24/50], Step [100/600], Loss: 0.0145\n",
      "Epoch [24/50], Step [200/600], Loss: 0.0129\n",
      "Epoch [24/50], Step [300/600], Loss: 0.0132\n",
      "Epoch [24/50], Step [400/600], Loss: 0.0133\n",
      "Epoch [24/50], Step [500/600], Loss: 0.0145\n",
      "Epoch [24/50], Step [600/600], Loss: 0.0128\n",
      "Epoch [25/50], Step [100/600], Loss: 0.0121\n",
      "Epoch [25/50], Step [200/600], Loss: 0.0142\n",
      "Epoch [25/50], Step [300/600], Loss: 0.0136\n",
      "Epoch [25/50], Step [400/600], Loss: 0.0138\n",
      "Epoch [25/50], Step [500/600], Loss: 0.0134\n",
      "Epoch [25/50], Step [600/600], Loss: 0.0130\n",
      "Epoch [26/50], Step [100/600], Loss: 0.0129\n",
      "Epoch [26/50], Step [200/600], Loss: 0.0127\n",
      "Epoch [26/50], Step [300/600], Loss: 0.0128\n",
      "Epoch [26/50], Step [400/600], Loss: 0.0127\n",
      "Epoch [26/50], Step [500/600], Loss: 0.0134\n",
      "Epoch [26/50], Step [600/600], Loss: 0.0131\n",
      "Epoch [27/50], Step [100/600], Loss: 0.0120\n",
      "Epoch [27/50], Step [200/600], Loss: 0.0131\n",
      "Epoch [27/50], Step [300/600], Loss: 0.0140\n",
      "Epoch [27/50], Step [400/600], Loss: 0.0126\n",
      "Epoch [27/50], Step [500/600], Loss: 0.0131\n",
      "Epoch [27/50], Step [600/600], Loss: 0.0121\n",
      "Epoch [28/50], Step [100/600], Loss: 0.0124\n",
      "Epoch [28/50], Step [200/600], Loss: 0.0130\n",
      "Epoch [28/50], Step [300/600], Loss: 0.0137\n",
      "Epoch [28/50], Step [400/600], Loss: 0.0142\n",
      "Epoch [28/50], Step [500/600], Loss: 0.0132\n",
      "Epoch [28/50], Step [600/600], Loss: 0.0133\n",
      "Epoch [29/50], Step [100/600], Loss: 0.0135\n",
      "Epoch [29/50], Step [200/600], Loss: 0.0148\n",
      "Epoch [29/50], Step [300/600], Loss: 0.0137\n",
      "Epoch [29/50], Step [400/600], Loss: 0.0138\n",
      "Epoch [29/50], Step [500/600], Loss: 0.0137\n",
      "Epoch [29/50], Step [600/600], Loss: 0.0138\n",
      "Epoch [30/50], Step [100/600], Loss: 0.0132\n",
      "Epoch [30/50], Step [200/600], Loss: 0.0135\n",
      "Epoch [30/50], Step [300/600], Loss: 0.0134\n",
      "Epoch [30/50], Step [400/600], Loss: 0.0121\n",
      "Epoch [30/50], Step [500/600], Loss: 0.0155\n",
      "Epoch [30/50], Step [600/600], Loss: 0.0139\n",
      "Epoch [31/50], Step [100/600], Loss: 0.0141\n",
      "Epoch [31/50], Step [200/600], Loss: 0.0122\n",
      "Epoch [31/50], Step [300/600], Loss: 0.0137\n",
      "Epoch [31/50], Step [400/600], Loss: 0.0128\n",
      "Epoch [31/50], Step [500/600], Loss: 0.0134\n",
      "Epoch [31/50], Step [600/600], Loss: 0.0127\n",
      "Epoch [32/50], Step [100/600], Loss: 0.0140\n"
     ]
    },
    {
     "name": "stdout",
     "output_type": "stream",
     "text": [
      "Epoch [32/50], Step [200/600], Loss: 0.0130\n",
      "Epoch [32/50], Step [300/600], Loss: 0.0132\n",
      "Epoch [32/50], Step [400/600], Loss: 0.0138\n",
      "Epoch [32/50], Step [500/600], Loss: 0.0129\n",
      "Epoch [32/50], Step [600/600], Loss: 0.0132\n",
      "Epoch [33/50], Step [100/600], Loss: 0.0139\n",
      "Epoch [33/50], Step [200/600], Loss: 0.0117\n",
      "Epoch [33/50], Step [300/600], Loss: 0.0144\n",
      "Epoch [33/50], Step [400/600], Loss: 0.0132\n",
      "Epoch [33/50], Step [500/600], Loss: 0.0137\n",
      "Epoch [33/50], Step [600/600], Loss: 0.0144\n",
      "Epoch [34/50], Step [100/600], Loss: 0.0139\n",
      "Epoch [34/50], Step [200/600], Loss: 0.0131\n",
      "Epoch [34/50], Step [300/600], Loss: 0.0138\n",
      "Epoch [34/50], Step [400/600], Loss: 0.0134\n",
      "Epoch [34/50], Step [500/600], Loss: 0.0133\n",
      "Epoch [34/50], Step [600/600], Loss: 0.0146\n",
      "Epoch [35/50], Step [100/600], Loss: 0.0136\n",
      "Epoch [35/50], Step [200/600], Loss: 0.0135\n",
      "Epoch [35/50], Step [300/600], Loss: 0.0123\n",
      "Epoch [35/50], Step [400/600], Loss: 0.0134\n",
      "Epoch [35/50], Step [500/600], Loss: 0.0123\n",
      "Epoch [35/50], Step [600/600], Loss: 0.0125\n",
      "Epoch [36/50], Step [100/600], Loss: 0.0128\n",
      "Epoch [36/50], Step [200/600], Loss: 0.0135\n",
      "Epoch [36/50], Step [300/600], Loss: 0.0135\n",
      "Epoch [36/50], Step [400/600], Loss: 0.0121\n",
      "Epoch [36/50], Step [500/600], Loss: 0.0134\n",
      "Epoch [36/50], Step [600/600], Loss: 0.0158\n",
      "Epoch [37/50], Step [100/600], Loss: 0.0128\n",
      "Epoch [37/50], Step [200/600], Loss: 0.0132\n",
      "Epoch [37/50], Step [300/600], Loss: 0.0138\n",
      "Epoch [37/50], Step [400/600], Loss: 0.0133\n",
      "Epoch [37/50], Step [500/600], Loss: 0.0136\n",
      "Epoch [37/50], Step [600/600], Loss: 0.0120\n",
      "Epoch [38/50], Step [100/600], Loss: 0.0128\n",
      "Epoch [38/50], Step [200/600], Loss: 0.0131\n",
      "Epoch [38/50], Step [300/600], Loss: 0.0125\n",
      "Epoch [38/50], Step [400/600], Loss: 0.0140\n",
      "Epoch [38/50], Step [500/600], Loss: 0.0148\n",
      "Epoch [38/50], Step [600/600], Loss: 0.0128\n",
      "Epoch [39/50], Step [100/600], Loss: 0.0128\n",
      "Epoch [39/50], Step [200/600], Loss: 0.0129\n",
      "Epoch [39/50], Step [300/600], Loss: 0.0128\n",
      "Epoch [39/50], Step [400/600], Loss: 0.0128\n",
      "Epoch [39/50], Step [500/600], Loss: 0.0128\n",
      "Epoch [39/50], Step [600/600], Loss: 0.0137\n",
      "Epoch [40/50], Step [100/600], Loss: 0.0132\n",
      "Epoch [40/50], Step [200/600], Loss: 0.0130\n",
      "Epoch [40/50], Step [300/600], Loss: 0.0127\n",
      "Epoch [40/50], Step [400/600], Loss: 0.0146\n",
      "Epoch [40/50], Step [500/600], Loss: 0.0128\n",
      "Epoch [40/50], Step [600/600], Loss: 0.0130\n",
      "Epoch [41/50], Step [100/600], Loss: 0.0134\n",
      "Epoch [41/50], Step [200/600], Loss: 0.0127\n",
      "Epoch [41/50], Step [300/600], Loss: 0.0138\n",
      "Epoch [41/50], Step [400/600], Loss: 0.0132\n",
      "Epoch [41/50], Step [500/600], Loss: 0.0135\n",
      "Epoch [41/50], Step [600/600], Loss: 0.0128\n",
      "Epoch [42/50], Step [100/600], Loss: 0.0135\n",
      "Epoch [42/50], Step [200/600], Loss: 0.0128\n",
      "Epoch [42/50], Step [300/600], Loss: 0.0129\n",
      "Epoch [42/50], Step [400/600], Loss: 0.0132\n",
      "Epoch [42/50], Step [500/600], Loss: 0.0130\n",
      "Epoch [42/50], Step [600/600], Loss: 0.0138\n",
      "Epoch [43/50], Step [100/600], Loss: 0.0128\n",
      "Epoch [43/50], Step [200/600], Loss: 0.0141\n",
      "Epoch [43/50], Step [300/600], Loss: 0.0126\n",
      "Epoch [43/50], Step [400/600], Loss: 0.0141\n",
      "Epoch [43/50], Step [500/600], Loss: 0.0126\n",
      "Epoch [43/50], Step [600/600], Loss: 0.0134\n",
      "Epoch [44/50], Step [100/600], Loss: 0.0135\n",
      "Epoch [44/50], Step [200/600], Loss: 0.0140\n",
      "Epoch [44/50], Step [300/600], Loss: 0.0124\n",
      "Epoch [44/50], Step [400/600], Loss: 0.0143\n",
      "Epoch [44/50], Step [500/600], Loss: 0.0135\n",
      "Epoch [44/50], Step [600/600], Loss: 0.0137\n",
      "Epoch [45/50], Step [100/600], Loss: 0.0128\n",
      "Epoch [45/50], Step [200/600], Loss: 0.0146\n",
      "Epoch [45/50], Step [300/600], Loss: 0.0135\n",
      "Epoch [45/50], Step [400/600], Loss: 0.0129\n",
      "Epoch [45/50], Step [500/600], Loss: 0.0133\n",
      "Epoch [45/50], Step [600/600], Loss: 0.0133\n",
      "Epoch [46/50], Step [100/600], Loss: 0.0137\n",
      "Epoch [46/50], Step [200/600], Loss: 0.0135\n",
      "Epoch [46/50], Step [300/600], Loss: 0.0124\n",
      "Epoch [46/50], Step [400/600], Loss: 0.0129\n",
      "Epoch [46/50], Step [500/600], Loss: 0.0126\n",
      "Epoch [46/50], Step [600/600], Loss: 0.0133\n",
      "Epoch [47/50], Step [100/600], Loss: 0.0127\n",
      "Epoch [47/50], Step [200/600], Loss: 0.0120\n",
      "Epoch [47/50], Step [300/600], Loss: 0.0142\n",
      "Epoch [47/50], Step [400/600], Loss: 0.0122\n",
      "Epoch [47/50], Step [500/600], Loss: 0.0127\n",
      "Epoch [47/50], Step [600/600], Loss: 0.0127\n",
      "Epoch [48/50], Step [100/600], Loss: 0.0135\n",
      "Epoch [48/50], Step [200/600], Loss: 0.0128\n",
      "Epoch [48/50], Step [300/600], Loss: 0.0141\n",
      "Epoch [48/50], Step [400/600], Loss: 0.0136\n",
      "Epoch [48/50], Step [500/600], Loss: 0.0137\n",
      "Epoch [48/50], Step [600/600], Loss: 0.0142\n",
      "Epoch [49/50], Step [100/600], Loss: 0.0132\n",
      "Epoch [49/50], Step [200/600], Loss: 0.0129\n",
      "Epoch [49/50], Step [300/600], Loss: 0.0120\n",
      "Epoch [49/50], Step [400/600], Loss: 0.0138\n",
      "Epoch [49/50], Step [500/600], Loss: 0.0129\n",
      "Epoch [49/50], Step [600/600], Loss: 0.0139\n",
      "Epoch [50/50], Step [100/600], Loss: 0.0121\n",
      "Epoch [50/50], Step [200/600], Loss: 0.0138\n",
      "Epoch [50/50], Step [300/600], Loss: 0.0130\n",
      "Epoch [50/50], Step [400/600], Loss: 0.0130\n",
      "Epoch [50/50], Step [500/600], Loss: 0.0159\n",
      "Epoch [50/50], Step [600/600], Loss: 0.0138\n"
     ]
    }
   ],
   "source": [
    "for epoch in range(num_epochs):\n",
    "    for i, (images, labels) in enumerate(train_loader):\n",
    "        images = images.view(-1, 28*28)\n",
    "        optimizer.zero_grad()\n",
    "        hidden_op,outputs = model(images)\n",
    "        loss = criterion.forward(outputs, images)\n",
    "        #print(loss)\n",
    "        loss.backward()\n",
    "        optimizer.step()\n",
    "        \n",
    "        if((i+1) % 100 == 0):\n",
    "            print('Epoch [%d/%d], Step [%d/%d], Loss: %.4f' %(epoch+1, num_epochs, i+1, len(train_dataset)//batch_size, loss.data[0]))"
   ]
  },
  {
   "cell_type": "code",
   "execution_count": 81,
   "metadata": {},
   "outputs": [],
   "source": [
    "def validate_op(n_images,orig_images,decoded_images,image_width):\n",
    "    fig, axes = plt.subplots(nrows=2, ncols=n_images, \n",
    "                         sharex=True, sharey=True, figsize=(20, 2.5))\n",
    "    fig.add_subplot(111, frameon=False)\n",
    "    # hide tick and tick label of the big axes\n",
    "    plt.tick_params(labelcolor='none', top='off', bottom='off', left='off', right='off')\n",
    "    plt.grid(False)\n",
    "    plt.ylabel(\"Decoded (Bottom)   |   Original(Top)\")\n",
    "    orig_images = orig_images[:n_images]\n",
    "    decoded_images = decoded_images[:n_images]\n",
    "    \n",
    "    \n",
    "    for i in range(n_images):\n",
    "        for ax, img in zip(axes, [orig_images, decoded_images]):\n",
    "            ax[i].imshow(img[i].detach().reshape((image_width, image_width)),cmap = 'gray')"
   ]
  },
  {
   "cell_type": "code",
   "execution_count": 82,
   "metadata": {},
   "outputs": [],
   "source": [
    "test_images,_ = next(iter(test_loader))"
   ]
  },
  {
   "cell_type": "code",
   "execution_count": 83,
   "metadata": {},
   "outputs": [],
   "source": [
    "model = model.eval()"
   ]
  },
  {
   "cell_type": "code",
   "execution_count": 84,
   "metadata": {},
   "outputs": [
    {
     "data": {
      "text/plain": [
       "False"
      ]
     },
     "execution_count": 84,
     "metadata": {},
     "output_type": "execute_result"
    }
   ],
   "source": [
    "model.training"
   ]
  },
  {
   "cell_type": "code",
   "execution_count": 86,
   "metadata": {},
   "outputs": [],
   "source": [
    "_,test_output = model(test_images.view(-1,28*28))\n",
    "test_output =test_output.view(100,28,28)"
   ]
  },
  {
   "cell_type": "code",
   "execution_count": 87,
   "metadata": {},
   "outputs": [
    {
     "name": "stderr",
     "output_type": "stream",
     "text": [
      "C:\\Users\\mohit_tare\\AppData\\Local\\Continuum\\anaconda3\\lib\\site-packages\\matplotlib\\cbook\\deprecation.py:107: MatplotlibDeprecationWarning: Passing one of 'on', 'true', 'off', 'false' as a boolean is deprecated; use an actual boolean (True/False) instead.\n",
      "  warnings.warn(message, mplDeprecation, stacklevel=1)\n"
     ]
    },
    {
     "data": {
      "image/png": "[encoded data removed]",
      "text/plain": [
       "<Figure size 1440x180 with 17 Axes>"
      ]
     },
     "metadata": {},
     "output_type": "display_data"
    }
   ],
   "source": [
    "validate_op(8,test_images,test_output,28)"
   ]
  },
  {
   "cell_type": "code",
   "execution_count": null,
   "metadata": {},
   "outputs": [],
   "source": []
  }
 ],
 "metadata": {
  "kernelspec": {
   "display_name": "Python 3",
   "language": "python",
   "name": "python3"
  },
  "language_info": {
   "codemirror_mode": {
    "name": "ipython",
    "version": 3
   },
   "file_extension": ".py",
   "mimetype": "text/x-python",
   "name": "python",
   "nbconvert_exporter": "python",
   "pygments_lexer": "ipython3",
   "version": "3.6.5"
  }
 },
 "nbformat": 4,
 "nbformat_minor": 2
}
